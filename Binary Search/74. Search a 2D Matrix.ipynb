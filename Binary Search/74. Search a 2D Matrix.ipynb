{
 "cells": [
  {
   "cell_type": "code",
   "execution_count": 8,
   "metadata": {},
   "outputs": [
    {
     "data": {
      "text/plain": [
       "True"
      ]
     },
     "execution_count": 8,
     "metadata": {},
     "output_type": "execute_result"
    }
   ],
   "source": [
    "from typing import List\n",
    "\n",
    "class Solution:\n",
    "    def searchMatrix(self, matrix: List[List[int]], target: int) -> bool:\n",
    "        def search(arr):\n",
    "            start = 0\n",
    "            end = len(arr) -1\n",
    "            while start <= end:\n",
    "                mid = start + (end-start)//2\n",
    "                if arr[mid] == target:\n",
    "                    return True\n",
    "                \n",
    "                if arr[mid] < target:\n",
    "                    start = mid + 1\n",
    "                if arr[mid] > target:\n",
    "                    end = mid - 1\n",
    "            \n",
    "            return False\n",
    "\n",
    "        if matrix[-1][-1] < target:\n",
    "            return False\n",
    "        if matrix[0][0] > target:\n",
    "            return False\n",
    "        \n",
    "\n",
    "        start_row = 0\n",
    "        end_row = len(matrix) - 1\n",
    "\n",
    "        while start_row <= end_row:\n",
    "            mid_row = start_row + (end_row - start_row)//2\n",
    "\n",
    "            if matrix[mid_row][0] <= target <= matrix[mid_row][-1]:\n",
    "                return search(matrix[mid_row])\n",
    "\n",
    "            if matrix[mid_row][0] > target:\n",
    "                end_row = mid_row -1\n",
    "            \n",
    "            if matrix[mid_row][-1] < target:\n",
    "                start_row = mid_row + 1\n",
    "\n",
    "\n",
    "        for row in range(len(matrix)):\n",
    "            if target <= matrix[row][-1]: # target is within this row\n",
    "                return search(matrix[row], target)\n",
    "\n",
    "matrix = [[1,3,5,7],[10,11,16,20],[23,30,34,60]]\n",
    "target = 3\n",
    "\n",
    "Solution().searchMatrix(matrix, target)"
   ]
  }
 ],
 "metadata": {
  "interpreter": {
   "hash": "7c935856abf80d2ee858928acb485e087ce5c84da03efdd6383ac05d983d2ec3"
  },
  "kernelspec": {
   "display_name": "Python 3.8.12 ('keyExt')",
   "language": "python",
   "name": "python3"
  },
  "language_info": {
   "codemirror_mode": {
    "name": "ipython",
    "version": 3
   },
   "file_extension": ".py",
   "mimetype": "text/x-python",
   "name": "python",
   "nbconvert_exporter": "python",
   "pygments_lexer": "ipython3",
   "version": "3.8.12"
  },
  "orig_nbformat": 4
 },
 "nbformat": 4,
 "nbformat_minor": 2
}
