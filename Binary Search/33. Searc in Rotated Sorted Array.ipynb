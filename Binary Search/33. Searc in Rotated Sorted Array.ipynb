{
 "cells": [
  {
   "cell_type": "code",
   "execution_count": 21,
   "metadata": {},
   "outputs": [
    {
     "data": {
      "text/plain": [
       "-1"
      ]
     },
     "execution_count": 21,
     "metadata": {},
     "output_type": "execute_result"
    }
   ],
   "source": [
    "from typing import List\n",
    "\n",
    "\n",
    "class Solution:\n",
    "    def search(self, nums: List[int], target: int) -> int:\n",
    "        start = 0\n",
    "        end = len(nums) -1\n",
    "\n",
    "        while start <= end: # If len(nums) < 1 then condition isn't met.\n",
    "            mid = start + (end-start)//2\n",
    "            \n",
    "            # Check if we landed correctly\n",
    "            if nums[mid] == target:\n",
    "                return mid\n",
    "            \n",
    "            # We have to check if we continue on the left or right side\n",
    "            \n",
    "            if nums[start] <= nums[mid]: # Make sure left side is completely ordered\n",
    "                if target >= nums[start] and nums[mid] >= target: # Target within array\n",
    "                    end = mid - 1 # Let's search within the sub array\n",
    "                else: # Target out of the array\n",
    "                    start = mid + 1\n",
    "            \n",
    "            else: # Left side is unordered -> right side has to be ordered\n",
    "                if target >= nums[mid] and nums[end] >= target: # Target within array\n",
    "                    start = mid + 1\n",
    "                else: # Target not in this side.\n",
    "                    end = mid -1\n",
    "        \n",
    "        # Can't find target\n",
    "        return -1\n",
    "            \n",
    "\n",
    "\n",
    "nums = [1,3,5]\n",
    "\n",
    "target = 0\n",
    "\n",
    "Solution().search(nums, target)"
   ]
  }
 ],
 "metadata": {
  "interpreter": {
   "hash": "7c935856abf80d2ee858928acb485e087ce5c84da03efdd6383ac05d983d2ec3"
  },
  "kernelspec": {
   "display_name": "Python 3.8.12 ('keyExt')",
   "language": "python",
   "name": "python3"
  },
  "language_info": {
   "codemirror_mode": {
    "name": "ipython",
    "version": 3
   },
   "file_extension": ".py",
   "mimetype": "text/x-python",
   "name": "python",
   "nbconvert_exporter": "python",
   "pygments_lexer": "ipython3",
   "version": "3.8.12"
  },
  "orig_nbformat": 4
 },
 "nbformat": 4,
 "nbformat_minor": 2
}
