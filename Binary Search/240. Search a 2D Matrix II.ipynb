{
 "cells": [
  {
   "cell_type": "code",
   "execution_count": null,
   "metadata": {},
   "outputs": [],
   "source": [
    "# Binary Search\n",
    "from typing import List\n",
    "\n",
    "\n",
    "class Solution:\n",
    "    def searchMatrix(self, matrix: List[List[int]], target = int) -> bool:\n",
    "        def searchRow(row):\n",
    "            if row:\n",
    "                if len(row) == 1:\n",
    "                    return row[0] == target\n",
    "\n",
    "                pivot = row[len(row)//2]\n",
    "                \n",
    "                if pivot < target:\n",
    "                    return searchRow(row[len(row)//2+1:])\n",
    "                elif pivot > target:\n",
    "                    return searchRow(row[:len(row)//2])\n",
    "                elif pivot == target:\n",
    "                    return True\n",
    "                \n",
    "            return False\n",
    "\n",
    "        for row in matrix:\n",
    "            if searchRow(row):\n",
    "                return True\n",
    "        \n",
    "        return False\n",
    "\n",
    "\n",
    "matrix = [[1,4,7,11,15],[2,5,8,12,19],[3,6,9,16,22],[10,13,14,17,24],[18,21,23,26,30]]\n",
    "target = 12\n",
    "Solution().searchMatrix(matrix, target)"
   ]
  },
  {
   "cell_type": "code",
   "execution_count": 30,
   "metadata": {},
   "outputs": [
    {
     "data": {
      "text/plain": [
       "True"
      ]
     },
     "execution_count": 30,
     "metadata": {},
     "output_type": "execute_result"
    }
   ],
   "source": [
    "# Space Reduction Search\n",
    "from typing import List\n",
    "\n",
    "\n",
    "class Solution:\n",
    "    def searchMatrix(self, matrix: List[List[int]], target = int) -> bool:\n",
    "        r = len(matrix) - 1\n",
    "        c = 0\n",
    "        \n",
    "        while r >= 0 and c < len(matrix[0]):\n",
    "            pivot = matrix[r][c]\n",
    "            if matrix[r][c] > target:\n",
    "                r -= 1\n",
    "            elif matrix[r][c] < target:\n",
    "                c += 1\n",
    "            else:\n",
    "                return True\n",
    "        \n",
    "        return False\n",
    "\n",
    "matrix = [[1,4,7,11,15],[2,5,8,12,19],[3,6,9,16,22],[10,13,14,17,24],[18,21,23,26,30]]\n",
    "target = 5\n",
    "Solution().searchMatrix(matrix, target)"
   ]
  }
 ],
 "metadata": {
  "interpreter": {
   "hash": "7c935856abf80d2ee858928acb485e087ce5c84da03efdd6383ac05d983d2ec3"
  },
  "kernelspec": {
   "display_name": "Python 3.8.12 ('keyExt')",
   "language": "python",
   "name": "python3"
  },
  "language_info": {
   "codemirror_mode": {
    "name": "ipython",
    "version": 3
   },
   "file_extension": ".py",
   "mimetype": "text/x-python",
   "name": "python",
   "nbconvert_exporter": "python",
   "pygments_lexer": "ipython3",
   "version": "3.8.12"
  },
  "orig_nbformat": 4
 },
 "nbformat": 4,
 "nbformat_minor": 2
}
