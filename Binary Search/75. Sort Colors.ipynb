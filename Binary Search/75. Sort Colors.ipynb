{
 "cells": [
  {
   "cell_type": "code",
   "execution_count": 3,
   "metadata": {},
   "outputs": [],
   "source": [
    "from typing import List\n",
    "\n",
    "\n",
    "class Solution:\n",
    "    def sortColors(self, nums: List[int]) -> None:\n",
    "        \"\"\"\n",
    "        Do not return anything, modify nums in-place instead.\n",
    "        \"\"\"\n",
    "        def partition(arr: List[int], start: int, end: int) -> int:\n",
    "            pivot = end\n",
    "            while start <= end and end < len(arr):\n",
    "                while start < len(arr) and arr[start] <= arr[pivot]:\n",
    "                    start += 1\n",
    "                \n",
    "                while arr[end] > arr[pivot]:\n",
    "                    end -= 1\n",
    "                \n",
    "                if start < end:\n",
    "                    arr[start], arr[end] = arr[end], arr[start]\n",
    "            \n",
    "            arr[pivot], arr[end] = arr[end], arr[pivot]\n",
    "            \n",
    "            return end\n",
    "        \n",
    "        def sort(arr: List[int], start: int, end: int) -> None:\n",
    "            if start < end: \n",
    "                p = partition(arr, start, end)\n",
    "            \n",
    "                sort(arr, start, p-1)\n",
    "                sort(arr, p+1, end)\n",
    "        \n",
    "        sort(nums, 0, len(nums)-1)\n",
    "\n",
    "nums = [2,0,2,1,1,0]\n",
    "Solution().sortColors(nums)\n"
   ]
  },
  {
   "cell_type": "code",
   "execution_count": 9,
   "metadata": {},
   "outputs": [
    {
     "name": "stdout",
     "output_type": "stream",
     "text": [
      "[0, 0, 1, 1, 2, 2]\n"
     ]
    }
   ],
   "source": [
    "from typing import List\n",
    "\n",
    "\n",
    "def partition(arr: List[int], start: int, end: int) -> int:\n",
    "    pivot_index = start\n",
    "    pivot = arr[start]\n",
    "    \n",
    "    while start < end:\n",
    "        while start < len(arr) and arr[start] <= pivot:\n",
    "            start += 1\n",
    "        while end > 0 and arr[end] > pivot:\n",
    "            end -= 1\n",
    "        if start < end:\n",
    "            arr[start], arr[end] = arr[end], arr[start]\n",
    "    \n",
    "    arr[end], arr[pivot_index] = arr[pivot_index], arr[end]\n",
    "\n",
    "    return end\n",
    "\n",
    "def quickSort(arr: List[int], start:int, end:int) -> None:\n",
    "    if start < end:\n",
    "        pivot = partition(arr, start, end)\n",
    "\n",
    "        quickSort(arr, pivot+1, end)\n",
    "        quickSort(arr, start, pivot-1)\n",
    "        \n",
    "\n",
    "nums = [2,0,2,1,1,0]\n",
    "quickSort(nums, 0, len(nums)-1)\n",
    "print(nums)"
   ]
  }
 ],
 "metadata": {
  "interpreter": {
   "hash": "7c935856abf80d2ee858928acb485e087ce5c84da03efdd6383ac05d983d2ec3"
  },
  "kernelspec": {
   "display_name": "Python 3.8.12 ('keyExt')",
   "language": "python",
   "name": "python3"
  },
  "language_info": {
   "codemirror_mode": {
    "name": "ipython",
    "version": 3
   },
   "file_extension": ".py",
   "mimetype": "text/x-python",
   "name": "python",
   "nbconvert_exporter": "python",
   "pygments_lexer": "ipython3",
   "version": "3.8.12"
  },
  "orig_nbformat": 4
 },
 "nbformat": 4,
 "nbformat_minor": 2
}
