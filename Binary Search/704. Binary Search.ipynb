{
 "cells": [
  {
   "cell_type": "code",
   "execution_count": 8,
   "metadata": {},
   "outputs": [
    {
     "data": {
      "text/plain": [
       "1"
      ]
     },
     "execution_count": 8,
     "metadata": {},
     "output_type": "execute_result"
    }
   ],
   "source": [
    "from typing import List\n",
    "\n",
    "\n",
    "class Solution:\n",
    "    def search(self, nums: List[int], target: int) -> int:\n",
    "        if nums[0] == target:\n",
    "            return 0\n",
    "        \n",
    "        pointer = 0\n",
    "    \n",
    "        while len(nums) > 1:\n",
    "            pivot = nums[len(nums)//2]\n",
    "            if pivot > target:\n",
    "                nums = nums[:len(nums)//2]\n",
    "                \n",
    "            if pivot < target:\n",
    "                nums = nums[len(nums)//2:]\n",
    "                pointer += len(nums)//2\n",
    "            if pivot == target:\n",
    "                pointer += len(nums)//2\n",
    "                return pointer\n",
    "            \n",
    "        return -1\n",
    "    \n",
    "nums = [-1,0,3,5,9,12]\n",
    "target = 0\n",
    "Solution().search(nums, target)"
   ]
  },
  {
   "cell_type": "code",
   "execution_count": 5,
   "metadata": {},
   "outputs": [
    {
     "data": {
      "text/plain": [
       "4"
      ]
     },
     "execution_count": 5,
     "metadata": {},
     "output_type": "execute_result"
    }
   ],
   "source": [
    "nums = [-1,0,3,5,9,12]\n",
    "target = 0\n",
    "Solution().search(nums, target)"
   ]
  },
  {
   "cell_type": "code",
   "execution_count": 12,
   "metadata": {},
   "outputs": [
    {
     "name": "stdout",
     "output_type": "stream",
     "text": [
      "[1, 2, 3]\n"
     ]
    }
   ],
   "source": [
    "a = [1,2,3]\n",
    "b = [2] *0\n",
    "a.extend(b)\n",
    "print(a)"
   ]
  },
  {
   "cell_type": "code",
   "execution_count": 16,
   "metadata": {},
   "outputs": [],
   "source": [
    "def getMilestoneDays(revenues, milestones):\n",
    "  # Write your code here\n",
    "  output = [-1]*len(milestones)\n",
    "  ms = dict()\n",
    "  for i, x in enumerate(milestones):\n",
    "    ms[x] = i\n",
    "  \n",
    "  milestones = sorted(milestones)\n",
    "  \n",
    "  accum_rev = 0\n",
    "  pointer = 0\n",
    "  \n",
    "  \n",
    "  for day, rev in enumerate(revenues):\n",
    "    accum_rev += rev\n",
    "    while accum_rev >= milestones[pointer]:\n",
    "      ix = ms[milestones[pointer]]\n",
    "      output[ix] = day + 1\n",
    "      pointer += 1\n",
    "      if pointer >= len(milestones):\n",
    "        return output\n",
    "  \n",
    "  return output\n",
    "  \n",
    "\n",
    "  return output\n",
    "\n",
    "revenues_2 = [700, 800, 600, 400, 600, 700]\n",
    "milestones_2 = [3100, 2200, 800, 2100, 1000] \n",
    "expected_1 = [2, 4, 4, 5]\n",
    "output_1 = getMilestoneDays(revenues_2, milestones_2)"
   ]
  }
 ],
 "metadata": {
  "interpreter": {
   "hash": "7c935856abf80d2ee858928acb485e087ce5c84da03efdd6383ac05d983d2ec3"
  },
  "kernelspec": {
   "display_name": "Python 3.8.12 ('keyExt')",
   "language": "python",
   "name": "python3"
  },
  "language_info": {
   "codemirror_mode": {
    "name": "ipython",
    "version": 3
   },
   "file_extension": ".py",
   "mimetype": "text/x-python",
   "name": "python",
   "nbconvert_exporter": "python",
   "pygments_lexer": "ipython3",
   "version": "3.8.12"
  },
  "orig_nbformat": 4
 },
 "nbformat": 4,
 "nbformat_minor": 2
}
