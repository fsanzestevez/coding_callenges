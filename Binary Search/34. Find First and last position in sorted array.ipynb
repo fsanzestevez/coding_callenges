{
 "cells": [
  {
   "cell_type": "code",
   "execution_count": 10,
   "metadata": {},
   "outputs": [
    {
     "data": {
      "text/plain": [
       "[3, 4]"
      ]
     },
     "execution_count": 10,
     "metadata": {},
     "output_type": "execute_result"
    }
   ],
   "source": [
    "from typing import List\n",
    "\n",
    "\n",
    "class Solution:\n",
    "    def searchRange(self, nums: List[int], target: int) -> List[int]:\n",
    "        if len(nums) == 0:\n",
    "            return [-1, -1]\n",
    "        if len(nums) == 1:\n",
    "            if nums[0] == target:\n",
    "                return [0, 0]\n",
    "            else:\n",
    "                return [-1, -1]\n",
    "\n",
    "            \n",
    "        start = 0\n",
    "        end = len(nums)\n",
    "        \n",
    "        while start < end:\n",
    "            mid = (start+end)//2\n",
    "            if nums[mid] < target:\n",
    "                start = mid+1\n",
    "            elif nums[mid] > target:\n",
    "                end = mid\n",
    "            \n",
    "            else:\n",
    "                l_mid = r_mid = mid\n",
    "                changed = True\n",
    "                while (l_mid > 0 or r_mid+1 < len(nums)) and changed:\n",
    "                    changed = False\n",
    "                    if r_mid+1 < len(nums):\n",
    "                        if nums[r_mid+1] == target:\n",
    "                            r_mid += 1\n",
    "                            changed = True\n",
    "                    if l_mid-1 >= 0:\n",
    "                        if nums[l_mid-1] == target:\n",
    "                            l_mid -= 1\n",
    "                            changed = True\n",
    "                \n",
    "                return [l_mid, r_mid]\n",
    "\n",
    "\n",
    "nums = [5,7,7,8,8,10]\n",
    "target = 8\n",
    "\n",
    "Solution().searchRange(nums, target)"
   ]
  }
 ],
 "metadata": {
  "interpreter": {
   "hash": "7c935856abf80d2ee858928acb485e087ce5c84da03efdd6383ac05d983d2ec3"
  },
  "kernelspec": {
   "display_name": "Python 3.8.12 ('keyExt')",
   "language": "python",
   "name": "python3"
  },
  "language_info": {
   "codemirror_mode": {
    "name": "ipython",
    "version": 3
   },
   "file_extension": ".py",
   "mimetype": "text/x-python",
   "name": "python",
   "nbconvert_exporter": "python",
   "pygments_lexer": "ipython3",
   "version": "3.8.12"
  },
  "orig_nbformat": 4
 },
 "nbformat": 4,
 "nbformat_minor": 2
}
