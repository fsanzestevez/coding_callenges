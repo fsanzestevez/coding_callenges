{
 "cells": [
  {
   "cell_type": "markdown",
   "metadata": {},
   "source": [
    "# Number of Visible Nodes\n",
    "There is a binary tree with N nodes. You are viewing the tree from its left side and can see only the leftmost nodes at each level. Return the number of visible nodes.\n",
    "Note: You can see only the leftmost nodes, but that doesn't mean they have to be left nodes. The leftmost node at a level could be a right node.\n",
    "**Signature**\n",
    "\n",
    "int visibleNodes(Node root) {\n",
    "**Input**\n",
    "\n",
    "The root node of a tree, where the number of nodes is between 1 and 1000, and the value of each node is between 0 and 1,000,000,000\n",
    "**Output**\n",
    "\n",
    "An int representing the number of visible nodes.\n",
    "\n",
    "**Example**\n",
    "\n",
    "            8  <------ root\n",
    "\n",
    "           / \\\n",
    "\n",
    "         3    10\n",
    "\n",
    "        / \\     \\\n",
    "\n",
    "       1   6     14\n",
    "\n",
    "          / \\    /\n",
    "\n",
    "         4   7  13            \n",
    "         \n",
    "output = 4"
   ]
  },
  {
   "cell_type": "code",
   "execution_count": 27,
   "metadata": {},
   "outputs": [],
   "source": [
    "class TreeNode: \n",
    "  def __init__(self,key): \n",
    "    self.left = None\n",
    "    self.right = None\n",
    "    self.val = key \n",
    "\n",
    "root_1 = TreeNode(8)\n",
    "root_1.left = TreeNode(3)\n",
    "root_1.right = TreeNode(10)\n",
    "root_1.left.left = TreeNode(1)\n",
    "root_1.left.right = TreeNode(6)\n",
    "root_1.left.right.left = TreeNode(4)\n",
    "root_1.left.right.right = TreeNode(7)\n",
    "root_1.right.right = TreeNode(14)\n",
    "root_1.right.right.left = TreeNode(13)\n",
    "expected_1 = 4\n",
    "root_2 = TreeNode(10)\n",
    "root_2.left = TreeNode(8)\n",
    "root_2.right = TreeNode(15)\n",
    "root_2.left.left = TreeNode(4)\n",
    "root_2.left.left.right = TreeNode(5)\n",
    "root_2.left.left.right.right = TreeNode(6)\n",
    "root_2.right.left =TreeNode(14)\n",
    "root_2.right.right = TreeNode(16)\n",
    "expected_2 = 5"
   ]
  },
  {
   "cell_type": "code",
   "execution_count": 28,
   "metadata": {},
   "outputs": [
    {
     "data": {
      "text/plain": [
       "5"
      ]
     },
     "execution_count": 28,
     "metadata": {},
     "output_type": "execute_result"
    }
   ],
   "source": [
    "def visible_nodes(root):\n",
    "    depth_track = set()\n",
    "    current_depth = 0\n",
    "\n",
    "    q_ = [(root, current_depth)]\n",
    "    \n",
    "    while len(q_) > 0:\n",
    "        node, current_depth = q_.pop(0)\n",
    "        current_depth += 1\n",
    "        depth_track.add(current_depth)\n",
    "        if node.left:\n",
    "            q_.append((node.left, current_depth))\n",
    "        if node.right:\n",
    "            q_.append((node.right, current_depth))\n",
    "    return len(depth_track)\n",
    "\n",
    "\n",
    "visible_nodes(root_2)"
   ]
  },
  {
   "cell_type": "code",
   "execution_count": 12,
   "metadata": {},
   "outputs": [
    {
     "name": "stdout",
     "output_type": "stream",
     "text": [
      "16\n"
     ]
    }
   ],
   "source": [
    "# If we understand that we have to add the most-left at every level of depth (counting root)\n",
    "\n",
    "def visible_nodes(root):\n",
    "  # Write your code here\n",
    "  depth_left = {}\n",
    "  depth = 0\n",
    "  stack = [(root, depth)]\n",
    "\n",
    "  while len(stack) > 0:\n",
    "    node, depth = stack.pop(0)\n",
    "    \n",
    "    if depth_left.get(depth, 'empty') == 'empty':\n",
    "      depth_left[depth] = node.val\n",
    "    \n",
    "    depth += 1\n",
    "    \n",
    "    if node.left:\n",
    "      stack.append((node.left, depth))\n",
    "    if node.right:\n",
    "      stack.append((node.right, depth))\n",
    "  \n",
    "  print(sum(depth_left.values()))\n",
    "      \n",
    "\n",
    "output_1 = visible_nodes(root_1)"
   ]
  },
  {
   "cell_type": "code",
   "execution_count": 25,
   "metadata": {},
   "outputs": [
    {
     "data": {
      "text/plain": [
       "4"
      ]
     },
     "execution_count": 25,
     "metadata": {},
     "output_type": "execute_result"
    }
   ],
   "source": [
    "# If we understand that we have to add only the left child at every level of depth (root isnt left child)\n",
    "\n",
    "def visible_nodes(root):\n",
    "    stack = [root]\n",
    "    output = 0\n",
    "\n",
    "    while len(stack) > 0:\n",
    "        node = stack.pop(0)\n",
    "        if node.left:\n",
    "            stack.append(node.left)\n",
    "            output += node.left.val\n",
    "    return output\n",
    "\n",
    "visible_nodes(root_1)"
   ]
  },
  {
   "cell_type": "code",
   "execution_count": null,
   "metadata": {},
   "outputs": [],
   "source": []
  }
 ],
 "metadata": {
  "interpreter": {
   "hash": "7c935856abf80d2ee858928acb485e087ce5c84da03efdd6383ac05d983d2ec3"
  },
  "kernelspec": {
   "display_name": "Python 3.8.12 ('keyExt')",
   "language": "python",
   "name": "python3"
  },
  "language_info": {
   "codemirror_mode": {
    "name": "ipython",
    "version": 3
   },
   "file_extension": ".py",
   "mimetype": "text/x-python",
   "name": "python",
   "nbconvert_exporter": "python",
   "pygments_lexer": "ipython3",
   "version": "3.8.12"
  },
  "orig_nbformat": 4
 },
 "nbformat": 4,
 "nbformat_minor": 2
}
