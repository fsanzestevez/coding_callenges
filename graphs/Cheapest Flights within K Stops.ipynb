{
 "cells": [
  {
   "cell_type": "code",
   "execution_count": 2,
   "metadata": {},
   "outputs": [],
   "source": [
    "from typing import List\n",
    "\n",
    "class Solution:\n",
    "    def findCheapestPrices(self, n: int, flights: List[List[int]],\n",
    "        src: int, dst: int, k: int) -> int:\n",
    "        \n",
    "        # Create array with prices. Where index = city.\n",
    "        prices = [float(\"inf\")] * n\n",
    "        prices[src] = 0 # To start-off, the cost to reach source = 0 (bc dst == src)\n",
    "\n",
    "        for i in range(k + 1):\n",
    "            temp_prices = prices.copy() # Temp array of prices which will be updated every breadth. \n",
    "\n",
    "            for src_i, dst_i, price_i in flights:\n",
    "                # Update temp array if total cost (reaching source + price to dst_i) less than previous\n",
    "                if prices[src_i] + price_i < temp_prices[dst_i]:\n",
    "                    temp_prices[dst_i] = prices[src_i] + price_i\n",
    "            \n",
    "            # Commit changes\n",
    "            prices = temp_prices\n",
    "        \n",
    "        return -1 if prices[dst] == float(\"inf\") else prices[dst]\n",
    "\n"
   ]
  },
  {
   "cell_type": "code",
   "execution_count": 4,
   "metadata": {},
   "outputs": [
    {
     "data": {
      "text/plain": [
       "200"
      ]
     },
     "execution_count": 4,
     "metadata": {},
     "output_type": "execute_result"
    }
   ],
   "source": [
    "n = 3\n",
    "flights = [[0,1,100],[1,2,100],[0,2,500]]\n",
    "src = 0\n",
    "dst = 2\n",
    "k = 1\n",
    "\n",
    "sol = Solution()\n",
    "sol.findCheapestPrices(n, flights, src, dst, k)"
   ]
  },
  {
   "cell_type": "code",
   "execution_count": null,
   "metadata": {},
   "outputs": [],
   "source": []
  }
 ],
 "metadata": {
  "interpreter": {
   "hash": "7c935856abf80d2ee858928acb485e087ce5c84da03efdd6383ac05d983d2ec3"
  },
  "kernelspec": {
   "display_name": "Python 3.8.12 ('keyExt')",
   "language": "python",
   "name": "python3"
  },
  "language_info": {
   "codemirror_mode": {
    "name": "ipython",
    "version": 3
   },
   "file_extension": ".py",
   "mimetype": "text/x-python",
   "name": "python",
   "nbconvert_exporter": "python",
   "pygments_lexer": "ipython3",
   "version": "3.8.12"
  },
  "orig_nbformat": 4
 },
 "nbformat": 4,
 "nbformat_minor": 2
}
