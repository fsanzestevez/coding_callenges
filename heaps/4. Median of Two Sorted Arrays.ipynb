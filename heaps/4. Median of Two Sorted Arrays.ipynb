{
 "cells": [
  {
   "cell_type": "code",
   "execution_count": 17,
   "metadata": {},
   "outputs": [
    {
     "data": {
      "text/plain": [
       "2.5"
      ]
     },
     "execution_count": 17,
     "metadata": {},
     "output_type": "execute_result"
    }
   ],
   "source": [
    "from typing import List\n",
    "\n",
    "\n",
    "class Solution:\n",
    "    def findMedianSortedArrays(self, nums1: List[int], nums2: List[int]) -> float:\n",
    "        p1 = p2 = 0\n",
    "        n = len(nums2)\n",
    "        m = len(nums1)\n",
    "        nums1.extend([0]*n)\n",
    "\n",
    "        median = [(n+m)//2]\n",
    "        if (n+m)%2 == 0: \n",
    "            median.append(median[0]-1)\n",
    "        \n",
    "        while p2 < n and p1 <= median[0]:\n",
    "            if p1 == m:\n",
    "                nums1[p1:] = nums2[p2:]\n",
    "                break\n",
    "            if nums1[p1] > nums2[p2]:\n",
    "                nums1[p1], nums1[p1+1:] = nums2[p2], nums1[p1:-1]\n",
    "                p2 += 1\n",
    "                m += 1\n",
    "            p1 += 1\n",
    "        output = 0\n",
    "        for x in median:\n",
    "            output += nums1[x]\n",
    "\n",
    "        return output/len(median)\n",
    "\n",
    "# nums1 = [1,3]\n",
    "# nums2 = [2]\n",
    "nums1 = [1, 3]\n",
    "nums2 = [2, 7]\n",
    "\n",
    "Solution().findMedianSortedArrays(nums1, nums2)"
   ]
  }
 ],
 "metadata": {
  "interpreter": {
   "hash": "7c935856abf80d2ee858928acb485e087ce5c84da03efdd6383ac05d983d2ec3"
  },
  "kernelspec": {
   "display_name": "Python 3.8.12 ('keyExt')",
   "language": "python",
   "name": "python3"
  },
  "language_info": {
   "codemirror_mode": {
    "name": "ipython",
    "version": 3
   },
   "file_extension": ".py",
   "mimetype": "text/x-python",
   "name": "python",
   "nbconvert_exporter": "python",
   "pygments_lexer": "ipython3",
   "version": "3.8.12"
  },
  "orig_nbformat": 4
 },
 "nbformat": 4,
 "nbformat_minor": 2
}
