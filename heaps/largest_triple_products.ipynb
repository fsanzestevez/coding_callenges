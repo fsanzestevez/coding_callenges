{
 "cells": [
  {
   "cell_type": "markdown",
   "metadata": {},
   "source": [
    "# Largest Triple Products\n",
    "You're given a list of n integers arr[0..(n-1)]. You must compute a list output[0..(n-1)] such that, for each index i (between 0 and n-1, inclusive), output[i] is equal to the product of the three largest elements out of arr[0..i] (or equal to -1 if i < 2, as arr[0..i] then includes fewer than three elements).\n",
    "\n",
    "Note that the three largest elements used to form any product may have the same values as one another, but they must be at different indices in arr.\n",
    "\n",
    "**Signature**\n",
    "\n",
    "int[] findMaxProduct(int[] arr)\n",
    "\n",
    "**Input**\n",
    "\n",
    "n is in the range [1, 100,000].\n",
    "\n",
    "Each value arr[i] is in the range [1, 1,000].\n",
    "\n",
    "**Output**\n",
    "\n",
    "Return a list of n integers output[0..(n-1)], as described above.\n",
    "\n",
    "Example 1\n",
    "\n",
    "n = 5\n",
    "\n",
    "arr = [1, 2, 3, 4, 5]\n",
    "\n",
    "output = [-1, -1, 6, 24, 60]\n",
    "\n",
    "The 3rd element of output is 3*2*1 = 6, the 4th is 4*3*2 = 24, and the 5th is 5*4*3 = 60.\n",
    "\n",
    "Example 2\n",
    "\n",
    "n = 5\n",
    "\n",
    "arr = [2, 1, 2, 1, 2]\n",
    "\n",
    "output = [-1, -1, 4, 4, 8]\n",
    "\n",
    "The 3rd element of output is 2*2*1 = 4, the 4th is 2*2*1 = 4, and the 5th is 2*2*2 = 8."
   ]
  },
  {
   "cell_type": "code",
   "execution_count": 2,
   "metadata": {},
   "outputs": [],
   "source": [
    "arr_1 = [1, 2, 3, 4, 5]"
   ]
  },
  {
   "cell_type": "code",
   "execution_count": 14,
   "metadata": {},
   "outputs": [],
   "source": [
    "def findMaxProduct(arr):\n",
    "    # Write your code here\n",
    "    output =[-1, -1]\n",
    "    for i in range(3, len(arr)+1):\n",
    "        prod = 1\n",
    "        for x in sorted(arr[:i])[-3:]:\n",
    "            prod *= x\n",
    "        output.append(prod)\n",
    "    return output    "
   ]
  },
  {
   "cell_type": "code",
   "execution_count": 15,
   "metadata": {},
   "outputs": [
    {
     "data": {
      "text/plain": [
       "[-1, -1, 6, 24, 60]"
      ]
     },
     "execution_count": 15,
     "metadata": {},
     "output_type": "execute_result"
    }
   ],
   "source": [
    "findMaxProduct(arr_1)"
   ]
  },
  {
   "cell_type": "code",
   "execution_count": null,
   "metadata": {},
   "outputs": [],
   "source": []
  }
 ],
 "metadata": {
  "interpreter": {
   "hash": "7c935856abf80d2ee858928acb485e087ce5c84da03efdd6383ac05d983d2ec3"
  },
  "kernelspec": {
   "display_name": "Python 3.8.12 ('keyExt')",
   "language": "python",
   "name": "python3"
  },
  "language_info": {
   "codemirror_mode": {
    "name": "ipython",
    "version": 3
   },
   "file_extension": ".py",
   "mimetype": "text/x-python",
   "name": "python",
   "nbconvert_exporter": "python",
   "pygments_lexer": "ipython3",
   "version": "3.8.12"
  },
  "orig_nbformat": 4
 },
 "nbformat": 4,
 "nbformat_minor": 2
}
