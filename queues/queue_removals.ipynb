{
 "cells": [
  {
   "cell_type": "markdown",
   "metadata": {},
   "source": [
    "# Queue Removals\n",
    "You're given a list of n integers arr, which represent elements in a queue (in order from front to back). You're also given an integer x, and must perform x iterations of the following 3-step process:\n",
    "1. Pop x elements from the front of queue (or, if it contains fewer than x elements, pop all of them)\n",
    "1. Of the elements that were popped, find the one with the largest value (if there are multiple such elements, take the one which had been popped the earliest), and remove it\n",
    "3. For each one of the remaining elements that were popped (in the order they had been popped), decrement its value by 1 if it's positive (otherwise, if its value is 0, then it's left unchanged), and then add it back to the queue\n",
    "\n",
    "Compute a list of x integers output, the ith of which is the 1-based index in the original array of the element which had been removed in step 2 during the ith iteration.\n",
    "\n",
    "**Signature**\n",
    "\n",
    "int[] findPositions(int[] arr, int x)\n",
    "\n",
    "Input \\\n",
    "x is in the range [1, 316].\\\n",
    "n is in the range [x, x*x].\\\n",
    "Each value arr[i] is in the range [1, x].\n",
    "\n",
    "Output \\\n",
    "Return a list of x integers output, as described above.\n",
    "\n",
    "Example \\\n",
    "n = 6 \\\n",
    "arr = [1, 2, 2, 3, 4, 5] \\\n",
    "x = 5 \\\n",
    "output = [5, 6, 4, 1, 2] \\\n",
    "The initial queue is [1, 2, 2, 3, 4, 5] (from front to back). \\\n",
    "In the first iteration, the first 5 elements are popped off the queue, leaving just [5]. Of the popped elements, the largest one is the 4, which was at index 5 in the original array. The remaining elements are then decremented and added back onto the queue, whose contents are then [5, 0, 1, 1, 2].\n",
    "\n",
    "In the second iteration, all 5 elements are popped off the queue. The largest one is the 5, which was at index 6 in the original array. The remaining elements are then decremented (aside from the 0) and added back onto the queue, whose contents are then [0, 0, 0, 1].\n",
    "\n",
    "In the third iteration, all 4 elements are popped off the queue. The largest one is the 1, which had the initial value of 3 at index 4 in the original array. The remaining elements are added back onto the queue, whose contents are then [0, 0, 0].\n",
    "\n",
    "In the fourth iteration, all 3 elements are popped off the queue. Since they all have an equal value, we remove the one that was popped first, which had the initial value of 1 at index 1 in the original array. The remaining elements are added back onto the queue, whose contents are then [0, 0].\n",
    "In the final iteration, both elements are popped off the queue. We remove the one that was popped first, which had the initial value of 2 at index 2 in the original array."
   ]
  },
  {
   "cell_type": "code",
   "execution_count": 37,
   "metadata": {},
   "outputs": [],
   "source": [
    "def delete_max(arr, indices):\n",
    "    max = -1\n",
    "    delete = 0\n",
    "    for i in range(len(arr)):\n",
    "        element_i = arr[i]\n",
    "        if arr[i] > max:\n",
    "            max = arr[i]\n",
    "            delete = i\n",
    "        arr[i] = arr[i] - 1 if arr[i] > 0 else 0\n",
    "    del arr[delete]\n",
    "    index_out = indices[delete]\n",
    "    del indices[delete]\n",
    "    return index_out\n",
    "\n",
    "\n",
    "def findPositions(arr, x):\n",
    "    indices = list(range(1, len(arr)+1, 1))\n",
    "    output = []\n",
    "    for _ in range(x):\n",
    "        arr, popped = arr[x:], arr[:x]\n",
    "        indices, indices_aux = indices[x:], indices[:x]\n",
    "\n",
    "        index = delete_max(popped, indices_aux)\n",
    "        indices.extend(indices_aux)\n",
    "\n",
    "        arr.extend(popped)\n",
    "        output.append(index)\n",
    "    return output\n",
    "\n",
    "n_1 = 13\n",
    "x_1 = 5\n",
    "arr_1 = [1, 2, 2, 3, 4, 5]\n",
    "expected_1 = [5, 6, 4, 1, 2]\n",
    "findPositions(arr_1, x_1)"
   ]
  }
 ],
 "metadata": {
  "interpreter": {
   "hash": "7c935856abf80d2ee858928acb485e087ce5c84da03efdd6383ac05d983d2ec3"
  },
  "kernelspec": {
   "display_name": "Python 3.8.12 ('keyExt')",
   "language": "python",
   "name": "python3"
  },
  "language_info": {
   "codemirror_mode": {
    "name": "ipython",
    "version": 3
   },
   "file_extension": ".py",
   "mimetype": "text/x-python",
   "name": "python",
   "nbconvert_exporter": "python",
   "pygments_lexer": "ipython3",
   "version": "3.8.12"
  },
  "orig_nbformat": 4
 },
 "nbformat": 4,
 "nbformat_minor": 2
}
