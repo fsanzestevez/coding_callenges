{
 "cells": [
  {
   "cell_type": "markdown",
   "metadata": {},
   "source": [
    "# Slow Sums\n",
    "Suppose we have a list of N numbers, and repeat the following operation until we're left with only a single number: Choose any two numbers and replace them with their sum. Moreover, we associate a penalty with each operation equal to the value of the new number, and call the penalty for the entire list as the sum of the penalties of each operation. \\\n",
    "For example, given the list **[1, 2, 3, 4, 5]**, we could choose **2 and 3** for the first operation, which would transform the list into **[1, 5, 4, 5]** and incur a penalty of 5. The goal in this problem is to find the highest possible penalty for a given input.  \\\n",
    "\n",
    "**Signature**: \\\n",
    "int getTotalTime(int[] arr) \n",
    "\n",
    "**Input**: \\\n",
    "An array arr containing N integers, denoting the numbers in the list. \n",
    "\n",
    "**Output format**: \\\n",
    "An int representing the highest possible total penalty. \n",
    "\n",
    "**Constraints**: \\\n",
    "1 ≤ N ≤ 10^6 \\\n",
    "1 ≤ Ai ≤ 10^7, where *Ai denotes the ith initial element of an array. \n",
    "The sum of values of N over all test cases will not exceed 5 * 10^6. \n",
    "\n",
    "**Example** \\\n",
    "arr = [4, 2, 1, 3] \\\n",
    "output = 26 \\\n",
    "First, add 4 + 3 for a penalty of 7. Now the array is [7, 2, 1] \\\n",
    "Add 7 + 2 for a penalty of 9. Now the array is [9, 1] \\\n",
    "Add 9 + 1 for a penalty of 10. The penalties sum to 26. \\ "
   ]
  },
  {
   "cell_type": "code",
   "execution_count": 5,
   "metadata": {},
   "outputs": [],
   "source": [
    "# Straight ahead solution. Sorting time complexity is nlog(n), we iterate until we've run out of array, so we have to add that complexity as well. (k log n)\n",
    "def getTotalTime(arr):\n",
    "    penalty = 0\n",
    "    arr = sorted(arr)\n",
    "    while len(arr) > 1:\n",
    "        new = sum(arr[-2:])\n",
    "        penalty += new\n",
    "        arr = arr[:-2]\n",
    "        arr.append(new)\n",
    "    return penalty        "
   ]
  }
 ],
 "metadata": {
  "interpreter": {
   "hash": "7c935856abf80d2ee858928acb485e087ce5c84da03efdd6383ac05d983d2ec3"
  },
  "kernelspec": {
   "display_name": "Python 3.8.12 ('keyExt')",
   "language": "python",
   "name": "python3"
  },
  "language_info": {
   "codemirror_mode": {
    "name": "ipython",
    "version": 3
   },
   "file_extension": ".py",
   "mimetype": "text/x-python",
   "name": "python",
   "nbconvert_exporter": "python",
   "pygments_lexer": "ipython3",
   "version": "3.8.12"
  },
  "orig_nbformat": 4
 },
 "nbformat": 4,
 "nbformat_minor": 2
}
