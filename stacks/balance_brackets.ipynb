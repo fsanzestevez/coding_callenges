{
 "cells": [
  {
   "cell_type": "markdown",
   "metadata": {},
   "source": [
    "# Balance Brackets\n",
    "A bracket is any of the following characters: (, ), {, }, [, or ].\n",
    "\n",
    "We consider two brackets to be matching if the first bracket is an open-bracket, e.g., (, {, or [, and the second bracket is a close-bracket of the same type. That means ( and ), [ and ], and { and } are the only pairs of matching brackets.\n",
    "\n",
    "Furthermore, a sequence of brackets is said to be balanced if the following conditions are met:\n",
    "- The sequence is empty, or\n",
    "- The sequence is composed of two or more non-empty sequences, all of which are balanced, or\n",
    "- The first and last brackets of the sequence are matching, and the portion of the sequence without the first and last elements is balanced.\n",
    "\n",
    "You are given a string of brackets. Your task is to determine whether each sequence of brackets is balanced. If a string is balanced, return true, otherwise, return false\n",
    "\n",
    "**Signature** \\\n",
    "bool isBalanced(String s)\n",
    "\n",
    "**Input**\\\n",
    "String s with length between 1 and 1000\n",
    "\n",
    "**Output**\\\n",
    "A boolean representing if the string is balanced or not\n",
    "\n",
    "Example 1 \\\n",
    "s = {[()]} \\\n",
    "output: true\n",
    "\n",
    "Example 2 \\\n",
    "s = {}() \\\n",
    "output: true\n",
    "\n",
    "Example 3 \\\n",
    "s = {(}) \\\n",
    "output: false\n",
    "\n",
    "Example 4 \\\n",
    "s = ) \\\n",
    "output: false"
   ]
  },
  {
   "cell_type": "code",
   "execution_count": 4,
   "metadata": {},
   "outputs": [
    {
     "data": {
      "text/plain": [
       "True"
      ]
     },
     "execution_count": 4,
     "metadata": {},
     "output_type": "execute_result"
    }
   ],
   "source": [
    "def isBalanced(s):\n",
    "    translate = {\n",
    "        '(': ')',\n",
    "        '[': ']',\n",
    "        '{': '}'\n",
    "    }\n",
    "\n",
    "    stack = []\n",
    "    for c in s:\n",
    "        try:\n",
    "            stack.append(translate[c])\n",
    "        except:\n",
    "            try:\n",
    "                turno = stack.pop(-1)\n",
    "                if c != turno:\n",
    "                    return False\n",
    "            except:\n",
    "                return False\n",
    "    return True\n",
    "\n",
    "s1 = \"{{[[(())]]}}\"\n",
    "expected_1 = False\n",
    "isBalanced(s1)"
   ]
  }
 ],
 "metadata": {
  "interpreter": {
   "hash": "7c935856abf80d2ee858928acb485e087ce5c84da03efdd6383ac05d983d2ec3"
  },
  "kernelspec": {
   "display_name": "Python 3.8.12 ('keyExt')",
   "language": "python",
   "name": "python3"
  },
  "language_info": {
   "codemirror_mode": {
    "name": "ipython",
    "version": 3
   },
   "file_extension": ".py",
   "mimetype": "text/x-python",
   "name": "python",
   "nbconvert_exporter": "python",
   "pygments_lexer": "ipython3",
   "version": "3.8.12"
  },
  "orig_nbformat": 4
 },
 "nbformat": 4,
 "nbformat_minor": 2
}
