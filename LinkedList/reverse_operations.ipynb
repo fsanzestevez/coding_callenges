{
 "cells": [
  {
   "cell_type": "markdown",
   "metadata": {},
   "source": [
    "# Reverse Operations\n",
    "You are given a singly-linked list that contains N integers. A subpart of the list is a contiguous set of even elements, bordered either by either end of the list or an odd element. For example, if the list is [1, 2, 8, 9, 12, 16], the subparts of the list are [2, 8] and [12, 16].\n",
    "\n",
    "Then, for each subpart, the order of the elements is reversed. In the example, this would result in the new list, [1, 8, 2, 9, 16, 12].\n",
    "\n",
    "The goal of this question is: given a resulting list, determine the original order of the elements.\n",
    "\n",
    "**Implementation detail**: \n",
    "\n",
    "You must use the following definition for elements in the linked list:\n",
    "\n",
    "class Node { \\\n",
    "    int data; \\\n",
    "    Node next; \\\n",
    "}\n",
    "\n",
    "Signature\\\n",
    "Node reverse(Node head)\n",
    "\n",
    "Constraints \\\n",
    "1 <= N <= 1000, where N is the size of the list \\\n",
    "1 <= Li <= 10^9, where Li is the ith element of the list \\\n",
    "\n",
    "Example \\\n",
    "Input: \\\n",
    "N = 6 \\\n",
    "list = [1, 2, 8, 9, 12, 16] \\\n",
    "Output: \\\n",
    "[1, 8, 2, 9, 16, 12]"
   ]
  },
  {
   "cell_type": "code",
   "execution_count": 9,
   "metadata": {},
   "outputs": [],
   "source": [
    "class Node():\n",
    "    def __init__(self, x):\n",
    "        self.data = x\n",
    "        self.next = None\n",
    "\n",
    "\n",
    "def createLinkedList(arr):\n",
    "    head = None\n",
    "    tempHead = head\n",
    "    for v in arr:\n",
    "        if head == None:\n",
    "            head = Node(v)\n",
    "            tempHead = head\n",
    "        else:\n",
    "            head.next = Node(v)\n",
    "            head = head.next\n",
    "    return tempHead"
   ]
  },
  {
   "cell_type": "code",
   "execution_count": 18,
   "metadata": {},
   "outputs": [],
   "source": [
    "def reverse(head):\n",
    "    output = []\n",
    "    reversing = 0\n",
    "    pointer = 0\n",
    "    while head != None:\n",
    "        x = head.data\n",
    "        if x%2:\n",
    "            output.append(x)\n",
    "            pointer += 1 + reversing\n",
    "            reversing = 0\n",
    "        else:\n",
    "            output.insert(pointer, x)\n",
    "            reversing += 1\n",
    "        \n",
    "        head = head.next\n",
    "    output = createLinkedList(output)\n",
    "    return output\n",
    "\n",
    "\n",
    "head_2 = createLinkedList([2, 18, 24, 3, 5, 7, 9, 6, 12])\n",
    "expected_1 = createLinkedList([1, 8, 2, 9, 16, 12])\n",
    "output_1 = reverse(head_2)"
   ]
  }
 ],
 "metadata": {
  "interpreter": {
   "hash": "7c935856abf80d2ee858928acb485e087ce5c84da03efdd6383ac05d983d2ec3"
  },
  "kernelspec": {
   "display_name": "Python 3.8.12 ('keyExt')",
   "language": "python",
   "name": "python3"
  },
  "language_info": {
   "codemirror_mode": {
    "name": "ipython",
    "version": 3
   },
   "file_extension": ".py",
   "mimetype": "text/x-python",
   "name": "python",
   "nbconvert_exporter": "python",
   "pygments_lexer": "ipython3",
   "version": "3.8.12"
  },
  "orig_nbformat": 4
 },
 "nbformat": 4,
 "nbformat_minor": 2
}
