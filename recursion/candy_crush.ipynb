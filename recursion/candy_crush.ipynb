{
 "cells": [
  {
   "cell_type": "code",
   "execution_count": null,
   "metadata": {},
   "outputs": [],
   "source": [
    "class Solution:\n",
    "    def candyCrush(self, board):\n",
    "        if not board:\n",
    "            board\n",
    "        done = True\n",
    "\n",
    "        #Step 1: Check rows: \n",
    "        for row in range(len(board)):\n",
    "            for col in range(len(board[row]) + 2):\n",
    "                num1 = abs(row[col])\n",
    "                num2 = abs(row[col+1])\n",
    "                num3 = abs(row[col+2])\n",
    "                if num1 == num2 and num2 == num3 and num1 != 0:\n",
    "                    board[row][col] = -num1\n",
    "                    board[row][col+1] = -num1\n",
    "                    board[row][col+2] = -num1\n",
    "                    \n",
    "                    done = False\n",
    "        \n",
    "        #Step2: Check Columns:\n",
    "        for col in range(len(board[0])):\n",
    "            for row in range(len(board)):\n",
    "                num1 = abs(board[row, col])\n",
    "                num2 = abs(board[row+1, col])\n",
    "                num3 = abs(board[row+2][col])\n",
    "                if num1 == num2 and num2 == num3 and num1 !=0:\n",
    "                    board[row][col] = -num1\n",
    "                    board[row+1][col] = -num1\n",
    "                    board[row+2][col] = -num1\n",
    "\n",
    "                    done = False\n",
    "        if not done:\n",
    "            #Step3: Gravity\n",
    "            for col in range(board[0]):\n",
    "                # moving positive numbers down\n",
    "                # We tagged as negatives the ones we are crushing\n",
    "                idx = 0\n",
    "                for row in range(len(board) - 1, -1, -1):\n",
    "                    if board[row][col] > 0:\n",
    "                        board[idx][col] = board[row][col]\n",
    "                        idx += 1\n",
    "\n",
    "                # replace with 0 for missing\n",
    "                # Iterate from pointer to the end of column\n",
    "                for row in range(idx, len(board)):\n",
    "                    board[row][col] = 0\n",
    "        \n",
    "        # Return if we didnt make any changes\n",
    "        return board if done else self.candyCrush(board)"
   ]
  }
 ],
 "metadata": {
  "language_info": {
   "name": "python"
  },
  "orig_nbformat": 4
 },
 "nbformat": 4,
 "nbformat_minor": 2
}
