{
 "cells": [
  {
   "cell_type": "markdown",
   "metadata": {},
   "source": [
    "# Encrypted Words\n",
    "You've devised a simple encryption method for alphabetic strings that shuffles the characters in such a way that the resulting string is hard to quickly read, but is easy to convert back into the original string. \\\n",
    "When you encrypt a string S, you start with an initially-empty resulting string R and append characters to it as follows: \n",
    "- Append the middle character of S (if S has even length, then we define the middle character as the left-most of the two central characters) \n",
    "- Append the encrypted version of the substring of S that's to the left of the middle character (if non-empty) \n",
    "- Append the encrypted version of the substring of S that's to the right of the middle character (if non-empty) \n",
    "\n",
    "For example, to encrypt the string \"abc\", we first take \"b\", and then append the encrypted version of \"a\" (which is just \"a\") and the encrypted version of \"c\" (which is just \"c\") to get \"bac\". \\\n",
    "If we encrypt \"abcxcba\" we'll get \"xbacbca\". That is, we take \"x\" and then append the encrypted version \"abc\" and then append the encrypted version of \"cba\". \n",
    "\n",
    "**Input** \\\n",
    "S contains only lower-case alphabetic characters \\\n",
    "1 <= |S| <= 10,000 \n",
    "\n",
    "**Output** \\\n",
    "Return string R, the encrypted version of S. \n",
    "\n",
    "Example 1 \\\n",
    "S = \"abc\" \\\n",
    "R = \"bac\" \n",
    "\n",
    "Example 2 \\\n",
    "S = \"abcd\" \\\n",
    "R = \"bacd\" \n",
    "\n",
    "Example 3 \\\n",
    "S = \"abcxcba\" \\\n",
    "R = \"xbacbca\" \n",
    "\n",
    "Example 4 \\\n",
    "S = \"facebook\" \\\n",
    "R = \"eafcobok\""
   ]
  },
  {
   "cell_type": "code",
   "execution_count": 7,
   "metadata": {},
   "outputs": [
    {
     "data": {
      "text/plain": [
       "'bacd'"
      ]
     },
     "execution_count": 7,
     "metadata": {},
     "output_type": "execute_result"
    }
   ],
   "source": [
    "def findEncryptedWord(s):\n",
    "    # Write your code here\n",
    "    R = \"\"\n",
    "    if len(s) % 2:\n",
    "        middle = len(s)//2\n",
    "    else:\n",
    "        middle = len(s)//2 -1\n",
    "\n",
    "    R += s[middle]\n",
    "    R += s[:middle]\n",
    "    R += s[middle+1:]\n",
    "    return R\n",
    "\n",
    "s1 = \"abcd\"\n",
    "expected_1 = \"bac\"\n",
    "findEncryptedWord(s1)"
   ]
  },
  {
   "cell_type": "code",
   "execution_count": 3,
   "metadata": {},
   "outputs": [
    {
     "data": {
      "text/plain": [
       "1"
      ]
     },
     "execution_count": 3,
     "metadata": {},
     "output_type": "execute_result"
    }
   ],
   "source": [
    "7%2"
   ]
  },
  {
   "cell_type": "code",
   "execution_count": null,
   "metadata": {},
   "outputs": [],
   "source": []
  }
 ],
 "metadata": {
  "interpreter": {
   "hash": "7c935856abf80d2ee858928acb485e087ce5c84da03efdd6383ac05d983d2ec3"
  },
  "kernelspec": {
   "display_name": "Python 3.8.12 ('keyExt')",
   "language": "python",
   "name": "python3"
  },
  "language_info": {
   "codemirror_mode": {
    "name": "ipython",
    "version": 3
   },
   "file_extension": ".py",
   "mimetype": "text/x-python",
   "name": "python",
   "nbconvert_exporter": "python",
   "pygments_lexer": "ipython3",
   "version": "3.8.12"
  },
  "orig_nbformat": 4
 },
 "nbformat": 4,
 "nbformat_minor": 2
}
