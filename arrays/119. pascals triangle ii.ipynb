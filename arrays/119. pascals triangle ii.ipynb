{
 "cells": [
  {
   "cell_type": "code",
   "execution_count": 3,
   "metadata": {},
   "outputs": [
    {
     "data": {
      "text/plain": [
       "[1, 3, 3, 1]"
      ]
     },
     "execution_count": 3,
     "metadata": {},
     "output_type": "execute_result"
    }
   ],
   "source": [
    "from typing import List\n",
    "\n",
    "\n",
    "class Solution:\n",
    "    def getRow(self, rowIndex: int) -> List[int]:\n",
    "        if rowIndex == 0:\n",
    "            return [1]\n",
    "        if rowIndex == 1:\n",
    "            return [1, 1]\n",
    "        \n",
    "        triangle = [[1], [1,1]]\n",
    "        i = 2\n",
    "        while i <= rowIndex:\n",
    "            cols = len(triangle[-1])\n",
    "            c = 1\n",
    "            row = [1]\n",
    "            while c < cols:\n",
    "                a = triangle[-1][c-1]\n",
    "                b = triangle[-1][c]\n",
    "                row.append(a+b)\n",
    "                c += 1\n",
    "            row.append(1)\n",
    "            triangle.append(row)\n",
    "            i += 1\n",
    "        return row\n",
    "\n",
    "rowIndex = 3\n",
    "Solution().getRow(rowIndex)"
   ]
  }
 ],
 "metadata": {
  "interpreter": {
   "hash": "7c935856abf80d2ee858928acb485e087ce5c84da03efdd6383ac05d983d2ec3"
  },
  "kernelspec": {
   "display_name": "Python 3.8.12 ('keyExt')",
   "language": "python",
   "name": "python3"
  },
  "language_info": {
   "codemirror_mode": {
    "name": "ipython",
    "version": 3
   },
   "file_extension": ".py",
   "mimetype": "text/x-python",
   "name": "python",
   "nbconvert_exporter": "python",
   "pygments_lexer": "ipython3",
   "version": "3.8.12"
  },
  "orig_nbformat": 4
 },
 "nbformat": 4,
 "nbformat_minor": 2
}
