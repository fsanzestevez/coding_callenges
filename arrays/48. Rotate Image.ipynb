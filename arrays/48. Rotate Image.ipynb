{
 "cells": [
  {
   "cell_type": "code",
   "execution_count": 4,
   "metadata": {},
   "outputs": [
    {
     "name": "stdout",
     "output_type": "stream",
     "text": [
      "[[7, 4, 1], [8, 5, 2], [9, 6, 3]]\n"
     ]
    }
   ],
   "source": [
    "from typing import List\n",
    "\n",
    "\n",
    "class Solution:\n",
    "    def rotate(self, matrix: List[List[int]]) -> None:\n",
    "        l, r = 0, len(matrix) - 1\n",
    "\n",
    "        while l < r:\n",
    "            \n",
    "            for i in range(r-l):\n",
    "                bottom = r\n",
    "                top = l    \n",
    "                \n",
    "                topLeft = matrix[top][l+i]\n",
    "\n",
    "                matrix[top][l+i] = matrix[bottom-i][l]\n",
    "\n",
    "                matrix[bottom-i][l] = matrix[bottom][r-i]\n",
    "\n",
    "                matrix[bottom][r-i] = matrix[top+i][r]\n",
    "\n",
    "                matrix[top+i][r] = topLeft\n",
    "\n",
    "            l += 1\n",
    "            r -= 1\n",
    "\n",
    "matrix = [[1,2,3],[4,5,6],[7,8,9]]\n",
    "Solution().rotate(matrix)\n",
    "print(matrix)"
   ]
  }
 ],
 "metadata": {
  "interpreter": {
   "hash": "7c935856abf80d2ee858928acb485e087ce5c84da03efdd6383ac05d983d2ec3"
  },
  "kernelspec": {
   "display_name": "Python 3.8.12 ('keyExt')",
   "language": "python",
   "name": "python3"
  },
  "language_info": {
   "codemirror_mode": {
    "name": "ipython",
    "version": 3
   },
   "file_extension": ".py",
   "mimetype": "text/x-python",
   "name": "python",
   "nbconvert_exporter": "python",
   "pygments_lexer": "ipython3",
   "version": "3.8.12"
  },
  "orig_nbformat": 4
 },
 "nbformat": 4,
 "nbformat_minor": 2
}
