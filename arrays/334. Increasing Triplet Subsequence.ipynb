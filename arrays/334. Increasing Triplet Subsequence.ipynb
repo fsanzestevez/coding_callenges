{
 "cells": [
  {
   "cell_type": "code",
   "execution_count": 18,
   "metadata": {},
   "outputs": [
    {
     "data": {
      "text/plain": [
       "True"
      ]
     },
     "execution_count": 18,
     "metadata": {},
     "output_type": "execute_result"
    }
   ],
   "source": [
    "from typing import List\n",
    "\n",
    "\n",
    "class Solution:\n",
    "    def increasingTriplet(self, nums: List[int]) -> bool:\n",
    "        i = 0\n",
    "        first = second = float(\"inf\")\n",
    "        \n",
    "        while i < len(nums):\n",
    "            x = nums[i]\n",
    "            if nums[i] < first:\n",
    "                first = nums[i]\n",
    "            if first < nums[i] < second:\n",
    "                second = nums[i]\n",
    "            if first < second < nums[i]:\n",
    "                return True\n",
    "            i += 1\n",
    "        return False\n",
    "\n",
    "\n",
    "#nums = [5,4,3,2,1]\n",
    "#nums = [2,1,5,0,4,6]\n",
    "nums = [20,100,10,120,5,130]\n",
    "Solution().increasingTriplet(nums)"
   ]
  },
  {
   "cell_type": "code",
   "execution_count": null,
   "metadata": {},
   "outputs": [],
   "source": []
  }
 ],
 "metadata": {
  "interpreter": {
   "hash": "7c935856abf80d2ee858928acb485e087ce5c84da03efdd6383ac05d983d2ec3"
  },
  "kernelspec": {
   "display_name": "Python 3.8.12 ('keyExt')",
   "language": "python",
   "name": "python3"
  },
  "language_info": {
   "codemirror_mode": {
    "name": "ipython",
    "version": 3
   },
   "file_extension": ".py",
   "mimetype": "text/x-python",
   "name": "python",
   "nbconvert_exporter": "python",
   "pygments_lexer": "ipython3",
   "version": "3.8.12"
  },
  "orig_nbformat": 4
 },
 "nbformat": 4,
 "nbformat_minor": 2
}
