{
 "cells": [
  {
   "cell_type": "code",
   "execution_count": 10,
   "metadata": {},
   "outputs": [
    {
     "data": {
      "text/plain": [
       "[24, 12, 8, 6]"
      ]
     },
     "execution_count": 10,
     "metadata": {},
     "output_type": "execute_result"
    }
   ],
   "source": [
    "from typing import List\n",
    "\n",
    "\n",
    "class Solution:\n",
    "    def productExceptSelf(self, nums: List[int]) -> List[int]:\n",
    "        if len(nums) < 3:\n",
    "            return nums[::-1]\n",
    "        output = [1]\n",
    "        post = 1\n",
    "        for i in range(len(nums)-1):\n",
    "            output.append(output[i]*nums[i])\n",
    "        for i in range(len(nums)-1, -1, -1):\n",
    "            output[i] = output[i] * post\n",
    "            post *= nums[i]\n",
    "\n",
    "        return output\n",
    "\n",
    "nums = [1,2,3,4]\n",
    "Solution().productExceptSelf(nums)"
   ]
  }
 ],
 "metadata": {
  "interpreter": {
   "hash": "7c935856abf80d2ee858928acb485e087ce5c84da03efdd6383ac05d983d2ec3"
  },
  "kernelspec": {
   "display_name": "Python 3.8.12 ('keyExt')",
   "language": "python",
   "name": "python3"
  },
  "language_info": {
   "codemirror_mode": {
    "name": "ipython",
    "version": 3
   },
   "file_extension": ".py",
   "mimetype": "text/x-python",
   "name": "python",
   "nbconvert_exporter": "python",
   "pygments_lexer": "ipython3",
   "version": "3.8.12"
  },
  "orig_nbformat": 4
 },
 "nbformat": 4,
 "nbformat_minor": 2
}
