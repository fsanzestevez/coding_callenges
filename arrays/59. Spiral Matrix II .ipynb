{
 "cells": [
  {
   "cell_type": "code",
   "execution_count": 22,
   "metadata": {},
   "outputs": [
    {
     "data": {
      "text/plain": [
       "[[1, 2, 3], [8, 9, 4], [7, 6, 5]]"
      ]
     },
     "execution_count": 22,
     "metadata": {},
     "output_type": "execute_result"
    }
   ],
   "source": [
    "from typing import List\n",
    "\n",
    "class Solution:\n",
    "    def generateMatrix(self, n: int) -> List[List[int]]:\n",
    "        top, right, bottom, left = 0, 0, 0, 0\n",
    "        i = 1\n",
    "        matrix = [[0 for _ in range(n)] for _ in range(n)]\n",
    "        r,c = 0, 0\n",
    "        while i <= n*n:\n",
    "            for c in range(top, n-left):\n",
    "                matrix[r][c] = i\n",
    "                i += 1\n",
    "            top += 1\n",
    "                \n",
    "            for r in range(top, n - bottom, 1):\n",
    "                matrix[r][c] = i\n",
    "                i += 1\n",
    "            right += 1\n",
    "            \n",
    "            for c in range(n-1-right, -1 + left, -1):\n",
    "                matrix[r][c] = i\n",
    "                i += 1\n",
    "            bottom += 1\n",
    "            for r in range(n-1-bottom, top-1, -1):\n",
    "                matrix[r][c] = i\n",
    "                i += 1\n",
    "            left += 1\n",
    "        return matrix\n",
    "\n",
    "n = 3\n",
    "Solution().generateMatrix(n)"
   ]
  }
 ],
 "metadata": {
  "interpreter": {
   "hash": "7c935856abf80d2ee858928acb485e087ce5c84da03efdd6383ac05d983d2ec3"
  },
  "kernelspec": {
   "display_name": "Python 3.8.12 ('keyExt')",
   "language": "python",
   "name": "python3"
  },
  "language_info": {
   "codemirror_mode": {
    "name": "ipython",
    "version": 3
   },
   "file_extension": ".py",
   "mimetype": "text/x-python",
   "name": "python",
   "nbconvert_exporter": "python",
   "pygments_lexer": "ipython3",
   "version": "3.8.12"
  },
  "orig_nbformat": 4
 },
 "nbformat": 4,
 "nbformat_minor": 2
}
