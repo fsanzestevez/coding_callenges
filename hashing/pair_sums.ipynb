{
 "cells": [
  {
   "cell_type": "code",
   "execution_count": 10,
   "metadata": {},
   "outputs": [],
   "source": [
    "def numberOfWays(arr, k):\n",
    "    map_vals = dict()\n",
    "    out = 0\n",
    "    for i, x in enumerate(arr):\n",
    "        searching = k - x\n",
    "        if x in map_vals:\n",
    "            out += map_vals[x]\n",
    "        \n",
    "        map_vals[searching] = map_vals.get(searching, 0) + 1\n",
    "    return out\n",
    "\n",
    "\n",
    "k_1 = 6\n",
    "arr_1 = [1, 2, 3, 4, 3, 3]\n",
    "expected_1 = 2\n",
    "output_1 = numberOfWays(arr_1, k_1)"
   ]
  }
 ],
 "metadata": {
  "interpreter": {
   "hash": "7c935856abf80d2ee858928acb485e087ce5c84da03efdd6383ac05d983d2ec3"
  },
  "kernelspec": {
   "display_name": "Python 3.8.12 ('keyExt')",
   "language": "python",
   "name": "python3"
  },
  "language_info": {
   "codemirror_mode": {
    "name": "ipython",
    "version": 3
   },
   "file_extension": ".py",
   "mimetype": "text/x-python",
   "name": "python",
   "nbconvert_exporter": "python",
   "pygments_lexer": "ipython3",
   "version": "3.8.12"
  },
  "orig_nbformat": 4
 },
 "nbformat": 4,
 "nbformat_minor": 2
}
